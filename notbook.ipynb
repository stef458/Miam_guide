{
 "cells": [
  {
   "cell_type": "code",
   "execution_count": null,
   "id": "fecd4a46",
   "metadata": {},
   "outputs": [],
   "source": [
    "import streamlit as st\n",
    "import duckdb\n",
    "import pandas as pd\n",
    "from dotenv import load_dotenv\n",
    "import os\n",
    "\n",
    "load_dotenv()\n",
    "token = os.getenv(\"mother_duck_token\")\n",
    "st.set_page_config(page_title=\"Restaurants en France\", layout=\"wide\")\n",
    "\n",
    "\n",
    "\n",
    "db_path=f\"md:my_db?motherduck_token={token}\"\n",
    "con = duckdb.connect(db_path)"
   ]
  }
 ],
 "metadata": {
  "kernelspec": {
   "display_name": "app_venv",
   "language": "python",
   "name": "python3"
  },
  "language_info": {
   "name": "python",
   "version": "3.13.3"
  }
 },
 "nbformat": 4,
 "nbformat_minor": 5
}
